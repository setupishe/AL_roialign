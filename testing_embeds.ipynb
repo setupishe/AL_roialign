{
 "cells": [
  {
   "cell_type": "code",
   "execution_count": 7,
   "metadata": {},
   "outputs": [],
   "source": [
    "import os\n",
    "import glob\n",
    "import numpy as np\n",
    "from annoy import AnnoyIndex\n",
    "import heapq\n",
    "import shutil\n",
    "from tqdm import tqdm"
   ]
  },
  {
   "cell_type": "code",
   "execution_count": 8,
   "metadata": {},
   "outputs": [],
   "source": [
    "def get_embedding_dim(folder):\n",
    "    for filename in os.listdir(folder):\n",
    "        if filename.endswith(\".npy\"):\n",
    "            emb = np.load(os.path.join(folder, filename)).squeeze(0)\n",
    "            return emb.shape[0]\n",
    "    raise ValueError(\"No .npy files found in the folder.\")"
   ]
  },
  {
   "cell_type": "code",
   "execution_count": 9,
   "metadata": {},
   "outputs": [],
   "source": [
    "def build_annoy_index(folder, embedding_dim, n_trees=10):\n",
    "    index = AnnoyIndex(embedding_dim, \"angular\")  # Use 'angular' for cosine similarity\n",
    "    idx = 0\n",
    "    for filename in tqdm(os.listdir(folder)):\n",
    "        if filename.endswith(\".npy\"):\n",
    "            emb = np.load(os.path.join(folder, filename)).squeeze(0)\n",
    "            index.add_item(idx, emb)\n",
    "            idx += 1\n",
    "    index.build(n_trees)\n",
    "    return index"
   ]
  },
  {
   "cell_type": "code",
   "execution_count": 10,
   "metadata": {},
   "outputs": [],
   "source": [
    "def count_embeddings(folder):\n",
    "    return sum(1 for filename in os.listdir(folder) if filename.endswith(\".npy\"))"
   ]
  },
  {
   "cell_type": "code",
   "execution_count": 11,
   "metadata": {},
   "outputs": [],
   "source": [
    "def select_embeddings(first_folder, second_folder, n=None, k=None):\n",
    "    if k is None and n is None:\n",
    "        raise ValueError(\"either `n` of `k` should be specified\")\n",
    "    elif k is not None and n is not None:\n",
    "        raise ValueError(\"`n` of `k` cannot both be specified\")\n",
    "\n",
    "    embedding_dim = get_embedding_dim(first_folder)\n",
    "    print(f\"Embedding dimension: {embedding_dim}\")\n",
    "\n",
    "    print(\"Building Annoy index from the first folder...\")\n",
    "    index = build_annoy_index(first_folder, embedding_dim, n_trees=10)\n",
    "    print(\"Annoy index built.\")\n",
    "\n",
    "    total_embeddings = count_embeddings(second_folder)\n",
    "    print(f\"Total embeddings in the second folder: {total_embeddings}\")\n",
    "\n",
    "    k = total_embeddings // n if n is not None else k\n",
    "    print(f\"Selecting top {k} embeddings with the largest distances.\")\n",
    "\n",
    "    heap = []  # Min-heap to keep track of top-k largest distances\n",
    "\n",
    "    for filename in tqdm(os.listdir(second_folder)):\n",
    "        if filename.endswith(\".npy\"):\n",
    "            emb_path = os.path.join(second_folder, filename)\n",
    "            emb = np.load(emb_path).squeeze(0)\n",
    "\n",
    "            # Find the nearest neighbor in the first folder\n",
    "            nearest_idxs, distances = index.get_nns_by_vector(\n",
    "                emb, 1, include_distances=True\n",
    "            )\n",
    "            min_distance = distances[0]\n",
    "\n",
    "            # Use negative distance for max-heap behavior in min-heap\n",
    "            neg_distance = -min_distance\n",
    "\n",
    "            if len(heap) < k:\n",
    "                heapq.heappush(heap, (neg_distance, emb_path))\n",
    "            else:\n",
    "                if neg_distance > heap[0][0]:\n",
    "                    heapq.heappushpop(heap, (neg_distance, emb_path))\n",
    "\n",
    "    print(\"Selection completed.\")\n",
    "\n",
    "    # Extract the embeddings from the heap\n",
    "    top_embeddings = [heapq.heappop(heap) for _ in range(len(heap))]\n",
    "    top_embeddings.reverse()  # Largest distances first\n",
    "\n",
    "    # Get the file paths\n",
    "    selected_emb_paths = [item[1] for item in top_embeddings]\n",
    "\n",
    "    return selected_emb_paths"
   ]
  },
  {
   "cell_type": "code",
   "execution_count": 13,
   "metadata": {},
   "outputs": [
    {
     "name": "stdout",
     "output_type": "stream",
     "text": [
      "Embedding dimension: 512\n",
      "Building Annoy index from the first folder...\n"
     ]
    },
    {
     "name": "stderr",
     "output_type": "stream",
     "text": [
      "100%|██████████| 507685/507685 [00:11<00:00, 46064.09it/s]\n"
     ]
    },
    {
     "name": "stdout",
     "output_type": "stream",
     "text": [
      "Annoy index built.\n",
      "Total embeddings in the second folder: 579873\n",
      "Selecting top 17743.050000000003 embeddings with the largest distances.\n"
     ]
    },
    {
     "name": "stderr",
     "output_type": "stream",
     "text": [
      "100%|██████████| 1924875/1924875 [00:53<00:00, 35915.17it/s]"
     ]
    },
    {
     "name": "stdout",
     "output_type": "stream",
     "text": [
      "Selection completed.\n"
     ]
    },
    {
     "name": "stderr",
     "output_type": "stream",
     "text": [
      "\n"
     ]
    }
   ],
   "source": [
    "# Specify your folders and the fraction 1/n\n",
    "first_folder = \"/home/setupishe/bel_conf/embeds_reduced_0.2/embeds_0.2\"\n",
    "second_folder = (\n",
    "    \"/home/setupishe/bel_conf/remainder_embeds_reduced_0.2/remainder_embeds_0.2\"\n",
    ")\n",
    "n = 5  # Adjust as needed\n",
    "\n",
    "# Select embeddings\n",
    "selected_embeddings = select_embeddings(\n",
    "    first_folder, second_folder, k=118287 * 0.1 * 1.5\n",
    ")"
   ]
  },
  {
   "cell_type": "code",
   "execution_count": 14,
   "metadata": {},
   "outputs": [],
   "source": [
    "def force_mkdir(directory):\n",
    "    if os.path.isdir(directory):\n",
    "        shutil.rmtree(directory)\n",
    "    os.mkdir(directory)"
   ]
  },
  {
   "cell_type": "code",
   "execution_count": 15,
   "metadata": {},
   "outputs": [
    {
     "name": "stderr",
     "output_type": "stream",
     "text": [
      "100%|██████████| 17744/17744 [00:00<00:00, 44448.24it/s]"
     ]
    },
    {
     "name": "stdout",
     "output_type": "stream",
     "text": [
      "Selected embeddings have been copied to the output folder.\n"
     ]
    },
    {
     "name": "stderr",
     "output_type": "stream",
     "text": [
      "\n"
     ]
    }
   ],
   "source": [
    "# Optional: Copy selected embeddings to a new folder\n",
    "output_folder = \"test_folder\"\n",
    "force_mkdir(output_folder)\n",
    "\n",
    "for emb_path in tqdm(selected_embeddings):\n",
    "    filename = os.path.basename(emb_path)\n",
    "    shutil.copy(emb_path, os.path.join(output_folder, filename))\n",
    "\n",
    "print(\"Selected embeddings have been copied to the output folder.\")"
   ]
  },
  {
   "cell_type": "code",
   "execution_count": null,
   "metadata": {},
   "outputs": [],
   "source": []
  }
 ],
 "metadata": {
  "kernelspec": {
   "display_name": ".venv",
   "language": "python",
   "name": "python3"
  },
  "language_info": {
   "codemirror_mode": {
    "name": "ipython",
    "version": 3
   },
   "file_extension": ".py",
   "mimetype": "text/x-python",
   "name": "python",
   "nbconvert_exporter": "python",
   "pygments_lexer": "ipython3",
   "version": "3.10.12"
  }
 },
 "nbformat": 4,
 "nbformat_minor": 2
}
