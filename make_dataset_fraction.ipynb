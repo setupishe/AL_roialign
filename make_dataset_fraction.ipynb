{
 "cells": [
  {
   "cell_type": "code",
   "execution_count": 34,
   "metadata": {},
   "outputs": [],
   "source": [
    "for perc in [20, 30, 40, 50, 60, 70]:\n",
    "    with open(\"/home/setupishe/datasets/VOC/train.txt\", \"r\") as f:\n",
    "        lines = f.readlines()\n",
    "    new_lines = []\n",
    "    percentage = perc\n",
    "    for i, line in enumerate(lines):\n",
    "        if i % 100 <= percentage:\n",
    "            new_lines.append(line)\n",
    "    int_frac = f\"{percentage/100:.1f}\"\n",
    "    with open(f\"/home/setupishe/datasets/VOC/train_{int_frac}.txt\", \"w\") as f:\n",
    "        f.writelines(new_lines)\n",
    "    with open(\n",
    "        \"/home/setupishe/ultralytics/ultralytics/cfg/datasets/VOC.yaml\", \"r\"\n",
    "    ) as from_file:\n",
    "        lines = from_file.readlines()\n",
    "\n",
    "    for i, line in enumerate(lines):\n",
    "        if \"train: train.txt\" in line:\n",
    "            lines[i] = lines[i].replace(\"train.txt\", f\"train_{int_frac}.txt\")\n",
    "    with open(\n",
    "        f\"/home/setupishe/ultralytics/ultralytics/cfg/datasets/VOC_{int_frac}.yaml\", \"w\"\n",
    "    ) as to_file:\n",
    "        to_file.writelines(lines)"
   ]
  },
  {
   "cell_type": "code",
   "execution_count": 26,
   "metadata": {},
   "outputs": [],
   "source": [
    "with open(\"/home/setupishe/datasets/VOC/train.txt\", \"r\") as f:\n",
    "    lines = f.readlines()"
   ]
  },
  {
   "cell_type": "code",
   "execution_count": 27,
   "metadata": {},
   "outputs": [],
   "source": [
    "new_lines = []\n",
    "percentage = 20\n",
    "for i, line in enumerate(lines):\n",
    "    if i % 100 <= percentage:\n",
    "        new_lines.append(line)"
   ]
  },
  {
   "cell_type": "code",
   "execution_count": 28,
   "metadata": {},
   "outputs": [],
   "source": [
    "int_frac = f\"{percentage/100:.1f}\""
   ]
  },
  {
   "cell_type": "code",
   "execution_count": 29,
   "metadata": {},
   "outputs": [],
   "source": [
    "with open(f\"/home/setupishe/datasets/VOC/train_{int_frac}.txt\", \"w\") as f:\n",
    "    f.writelines(new_lines)"
   ]
  },
  {
   "cell_type": "code",
   "execution_count": 30,
   "metadata": {},
   "outputs": [],
   "source": [
    "with open(\n",
    "    \"/home/setupishe/ultralytics/ultralytics/cfg/datasets/VOC.yaml\", \"r\"\n",
    ") as from_file:\n",
    "    lines = from_file.readlines()\n",
    "\n",
    "for i, line in enumerate(lines):\n",
    "    if \"train: train.txt\" in line:\n",
    "        lines[i] = lines[i].replace(\"train.txt\", f\"train_{int_frac}.txt\")\n",
    "with open(\n",
    "    f\"/home/setupishe/ultralytics/ultralytics/cfg/datasets/VOC_{int_frac}.yaml\", \"w\"\n",
    ") as to_file:\n",
    "    to_file.writelines(lines)"
   ]
  }
 ],
 "metadata": {
  "kernelspec": {
   "display_name": ".venv",
   "language": "python",
   "name": "python3"
  },
  "language_info": {
   "codemirror_mode": {
    "name": "ipython",
    "version": 3
   },
   "file_extension": ".py",
   "mimetype": "text/x-python",
   "name": "python",
   "nbconvert_exporter": "python",
   "pygments_lexer": "ipython3",
   "version": "3.10.12"
  }
 },
 "nbformat": 4,
 "nbformat_minor": 2
}
