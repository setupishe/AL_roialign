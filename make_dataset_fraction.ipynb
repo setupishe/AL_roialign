{
 "cells": [
  {
   "cell_type": "code",
   "execution_count": 3,
   "metadata": {},
   "outputs": [],
   "source": [
    "import heapq\n",
    "import random"
   ]
  },
  {
   "cell_type": "code",
   "execution_count": 46,
   "metadata": {},
   "outputs": [],
   "source": [
    "a = []"
   ]
  },
  {
   "cell_type": "code",
   "execution_count": 47,
   "metadata": {},
   "outputs": [],
   "source": [
    "vals = [x for x in range(1, 11)]\n",
    "random.shuffle(vals)"
   ]
  },
  {
   "cell_type": "code",
   "execution_count": 48,
   "metadata": {},
   "outputs": [],
   "source": [
    "for i, item in enumerate('abcdefghij'):\n",
    "    heapq.heappush(a, (vals[i], item))"
   ]
  },
  {
   "cell_type": "code",
   "execution_count": 49,
   "metadata": {},
   "outputs": [
    {
     "data": {
      "text/plain": [
       "[(1, 'b'),\n",
       " (4, 'e'),\n",
       " (2, 'c'),\n",
       " (5, 'i'),\n",
       " (7, 'd'),\n",
       " (6, 'f'),\n",
       " (3, 'g'),\n",
       " (9, 'a'),\n",
       " (8, 'h'),\n",
       " (10, 'j')]"
      ]
     },
     "execution_count": 49,
     "metadata": {},
     "output_type": "execute_result"
    }
   ],
   "source": [
    "a"
   ]
  },
  {
   "cell_type": "code",
   "execution_count": 50,
   "metadata": {},
   "outputs": [],
   "source": [
    "for i, item in enumerate('abcdefghij'):\n",
    "    if 100*vals[i] > a[0][0]:\n",
    "        heapq.heappushpop(a, (100*vals[i], item.upper()))"
   ]
  },
  {
   "cell_type": "code",
   "execution_count": 51,
   "metadata": {},
   "outputs": [
    {
     "data": {
      "text/plain": [
       "[(100, 'B'),\n",
       " (200, 'C'),\n",
       " (400, 'E'),\n",
       " (300, 'G'),\n",
       " (700, 'D'),\n",
       " (1000, 'J'),\n",
       " (900, 'A'),\n",
       " (600, 'F'),\n",
       " (500, 'I'),\n",
       " (800, 'H')]"
      ]
     },
     "execution_count": 51,
     "metadata": {},
     "output_type": "execute_result"
    }
   ],
   "source": [
    "a"
   ]
  },
  {
   "cell_type": "code",
   "execution_count": 52,
   "metadata": {},
   "outputs": [
    {
     "data": {
      "text/plain": [
       "[(100, 'B'),\n",
       " (200, 'C'),\n",
       " (300, 'G'),\n",
       " (400, 'E'),\n",
       " (500, 'I'),\n",
       " (600, 'F'),\n",
       " (700, 'D'),\n",
       " (800, 'H'),\n",
       " (900, 'A'),\n",
       " (1000, 'J')]"
      ]
     },
     "execution_count": 52,
     "metadata": {},
     "output_type": "execute_result"
    }
   ],
   "source": [
    "[heapq.heappop(a) for _ in range(len(a))]"
   ]
  },
  {
   "cell_type": "code",
   "execution_count": 1,
   "metadata": {},
   "outputs": [],
   "source": [
    "with open(\"/home/setupishe/datasets/coco/train2017.txt\", \"r\") as f:\n",
    "    lines = f.readlines()"
   ]
  },
  {
   "cell_type": "code",
   "execution_count": 2,
   "metadata": {},
   "outputs": [],
   "source": [
    "new_lines = []\n",
    "percentage = 50\n",
    "for i, line in enumerate(lines):\n",
    "    if i % 100 <= percentage:\n",
    "        new_lines.append(line)"
   ]
  },
  {
   "cell_type": "code",
   "execution_count": 3,
   "metadata": {},
   "outputs": [],
   "source": [
    "int_frac = f\"{percentage/100:.1f}\""
   ]
  },
  {
   "cell_type": "code",
   "execution_count": 5,
   "metadata": {},
   "outputs": [],
   "source": [
    "with open(f\"/home/setupishe/datasets/coco/train2017_{int_frac}.txt\", \"w\") as f:\n",
    "    f.writelines(new_lines)"
   ]
  },
  {
   "cell_type": "code",
   "execution_count": 10,
   "metadata": {},
   "outputs": [],
   "source": [
    "with open(\n",
    "    \"/home/setupishe/ultralytics/ultralytics/cfg/datasets/coco.yaml\", \"r\"\n",
    ") as from_file:\n",
    "    lines = from_file.readlines()\n",
    "\n",
    "for i, line in enumerate(lines):\n",
    "    if \"train: train2017.txt\" in line:\n",
    "        lines[i] = lines[i].replace(\"train2017.txt\", f\"train2017_{int_frac}.txt\")\n",
    "with open(\n",
    "    f\"/home/setupishe/ultralytics/ultralytics/cfg/datasets/coco_{int_frac}.yaml\", \"w\"\n",
    ") as to_file:\n",
    "    to_file.writelines(lines)"
   ]
  },
  {
   "cell_type": "code",
   "execution_count": null,
   "metadata": {},
   "outputs": [],
   "source": []
  }
 ],
 "metadata": {
  "kernelspec": {
   "display_name": ".venv",
   "language": "python",
   "name": "python3"
  },
  "language_info": {
   "codemirror_mode": {
    "name": "ipython",
    "version": 3
   },
   "file_extension": ".py",
   "mimetype": "text/x-python",
   "name": "python",
   "nbconvert_exporter": "python",
   "pygments_lexer": "ipython3",
   "version": "3.10.12"
  }
 },
 "nbformat": 4,
 "nbformat_minor": 2
}
