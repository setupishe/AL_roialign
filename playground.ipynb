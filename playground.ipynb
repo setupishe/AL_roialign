{
 "cells": [
  {
   "cell_type": "code",
   "execution_count": 13,
   "metadata": {},
   "outputs": [],
   "source": [
    "import random"
   ]
  },
  {
   "cell_type": "code",
   "execution_count": 14,
   "metadata": {},
   "outputs": [],
   "source": [
    "import os, glob, shutil"
   ]
  },
  {
   "cell_type": "code",
   "execution_count": 16,
   "metadata": {},
   "outputs": [],
   "source": [
    "from tqdm import tqdm"
   ]
  },
  {
   "cell_type": "code",
   "execution_count": 1,
   "metadata": {},
   "outputs": [],
   "source": [
    "import torch"
   ]
  },
  {
   "cell_type": "code",
   "execution_count": 14,
   "metadata": {},
   "outputs": [
    {
     "data": {
      "text/plain": [
       "tensor([[[ 0,  1,  2],\n",
       "         [ 3,  4,  5],\n",
       "         [ 6,  7,  8]],\n",
       "\n",
       "        [[ 9, 10, 11],\n",
       "         [12, 13, 14],\n",
       "         [15, 16, 17]],\n",
       "\n",
       "        [[18, 19, 20],\n",
       "         [21, 22, 23],\n",
       "         [24, 25, 26]]])"
      ]
     },
     "execution_count": 14,
     "metadata": {},
     "output_type": "execute_result"
    }
   ],
   "source": [
    "a = torch.arange(27).reshape(3, 3, 3)\n",
    "a"
   ]
  },
  {
   "cell_type": "code",
   "execution_count": 29,
   "metadata": {},
   "outputs": [],
   "source": [
    "d = {x: x * 10 for x in range(10)}"
   ]
  },
  {
   "cell_type": "code",
   "execution_count": 31,
   "metadata": {},
   "outputs": [],
   "source": [
    "for key, value in d.items():\n",
    "    if value > 50:\n",
    "        d[key] = value + 1"
   ]
  },
  {
   "cell_type": "code",
   "execution_count": 34,
   "metadata": {},
   "outputs": [],
   "source": [
    "import numpy as np\n",
    "\n",
    "a = np.arange(10)\n",
    "b = np.arange(10) * 100"
   ]
  },
  {
   "cell_type": "code",
   "execution_count": 64,
   "metadata": {},
   "outputs": [],
   "source": [
    "import cc3d"
   ]
  },
  {
   "cell_type": "code",
   "execution_count": 65,
   "metadata": {},
   "outputs": [
    {
     "data": {
      "text/plain": [
       "array([[[100, 100, 100],\n",
       "        [100, 100, 100],\n",
       "        [100, 100, 100]],\n",
       "\n",
       "       [[100, 100, 100],\n",
       "        [ 12,  13,  14],\n",
       "        [ 15,  16,  17]],\n",
       "\n",
       "       [[ 18,  19,  20],\n",
       "        [ 21,  22,  23],\n",
       "        [ 24,  25,  26]]])"
      ]
     },
     "execution_count": 65,
     "metadata": {},
     "output_type": "execute_result"
    }
   ],
   "source": [
    "a = np.arange(27).reshape(3, 3, 3)\n",
    "a[a < 12] = 100\n",
    "a"
   ]
  },
  {
   "cell_type": "code",
   "execution_count": 66,
   "metadata": {},
   "outputs": [],
   "source": [
    "macro_components, num = cc3d.connected_components(\n",
    "    a,\n",
    "    connectivity=26,\n",
    "    return_N=True,\n",
    "    out_dtype=np.uint16,\n",
    ")"
   ]
  },
  {
   "cell_type": "code",
   "execution_count": 68,
   "metadata": {},
   "outputs": [
    {
     "data": {
      "text/plain": [
       "17"
      ]
     },
     "execution_count": 68,
     "metadata": {},
     "output_type": "execute_result"
    }
   ],
   "source": [
    "len(components_volumes)"
   ]
  },
  {
   "cell_type": "code",
   "execution_count": 79,
   "metadata": {},
   "outputs": [
    {
     "data": {
      "text/plain": [
       "1"
      ]
     },
     "execution_count": 79,
     "metadata": {},
     "output_type": "execute_result"
    }
   ],
   "source": [
    "bin(1 << 3).count(\"1\")"
   ]
  },
  {
   "cell_type": "code",
   "execution_count": 70,
   "metadata": {},
   "outputs": [
    {
     "name": "stdout",
     "output_type": "stream",
     "text": [
      "Intersection composite labels found: [5, 6, 7]\n",
      "Composite label 5 (classes: ['class1', 'class3']) has 1 connected component(s)\n",
      "Composite label 6 (classes: ['class2', 'class3']) has 1 connected component(s)\n",
      "Composite label 7 (classes: ['class1', 'class2', 'class3']) has 1 connected component(s)\n"
     ]
    }
   ],
   "source": [
    "import numpy as np\n",
    "import scipy.ndimage as ndimage\n",
    "\n",
    "\n",
    "def compute_composite_mask(tensor):\n",
    "    \"\"\"\n",
    "    Convert a 4D tensor (channels, n, n, n) into a 3D composite volume.\n",
    "    Each voxel value is computed as the sum of (1 << channel) for each channel\n",
    "    where the voxel has a 1.\n",
    "    \"\"\"\n",
    "    # Get spatial dimensions from tensor (assumes tensor.shape = (channels, n, n, n))\n",
    "    composite = np.zeros(tensor.shape[1:], dtype=np.int32)\n",
    "    num_channels = tensor.shape[0]\n",
    "    for channel in range(num_channels):\n",
    "        # For each channel, add the bit (1 << channel) to the composite mask if voxel is 1.\n",
    "        composite += tensor[channel] * (1 << channel)\n",
    "    return composite\n",
    "\n",
    "\n",
    "def get_intersection_labels(composite):\n",
    "    \"\"\"\n",
    "    Return composite labels corresponding to intersections (i.e. where at least 2 classes overlap).\n",
    "    This is determined by counting the number of 1 bits in the composite label.\n",
    "    \"\"\"\n",
    "    unique_labels = np.unique(composite)\n",
    "    # We only want labels that represent 2 or more classes (i.e. popcount >= 2)\n",
    "    intersection_labels = [\n",
    "        label for label in unique_labels if bin(label).count(\"1\") >= 2\n",
    "    ]\n",
    "    return intersection_labels\n",
    "\n",
    "\n",
    "def connected_components_for_label(composite, label, connectivity=26):\n",
    "    \"\"\"\n",
    "    For a given composite label, run a 3D connected components analysis.\n",
    "    Uses a 3x3x3 connectivity (26-connected) if requested.\n",
    "    \"\"\"\n",
    "    # Create a boolean mask of the voxels that have exactly this composite label.\n",
    "    mask = composite == label\n",
    "    # Define the connectivity structure.\n",
    "    if connectivity == 26:\n",
    "        structure = np.ones((3, 3, 3), dtype=np.int32)\n",
    "    else:\n",
    "        # For 6-connected, use:\n",
    "        structure = ndimage.generate_binary_structure(3, 1)\n",
    "    labeled_array, num_features = ndimage.label(mask, structure=structure)\n",
    "    return labeled_array, num_features\n",
    "\n",
    "\n",
    "def decode_label(label, mapping):\n",
    "    \"\"\"\n",
    "    Given an integer composite label and the mapping dictionary (class name -> channel index),\n",
    "    return a list of class names that are present in the label.\n",
    "    \"\"\"\n",
    "    present_classes = []\n",
    "    for class_name, idx in mapping.items():\n",
    "        if label & (1 << idx):\n",
    "            present_classes.append(class_name)\n",
    "    return present_classes\n",
    "\n",
    "\n",
    "# ----- Example and Test -----\n",
    "if __name__ == \"__main__\":\n",
    "    # mapping: keys are class names, values are the channel indices in the 4D tensor.\n",
    "    mapping = {\"class1\": 0, \"class2\": 1, \"class3\": 2}\n",
    "\n",
    "    # Create a 4D tensor of shape (channels, n, n, n) with binary masks.\n",
    "    # Here we use a 10x10x10 volume and 3 classes.\n",
    "    tensor = np.zeros((3, 10, 10, 10), dtype=np.uint8)\n",
    "\n",
    "    # For class1, draw a cube from indices [2:7, 2:7, 2:7]\n",
    "    tensor[mapping[\"class1\"], 2:7, 2:7, 2:7] = 1\n",
    "\n",
    "    # For class2, draw a cube from indices [5:9, 5:9, 5:9] so it overlaps with class1 in [5:7, 5:7, 5:7]\n",
    "    tensor[mapping[\"class2\"], 5:9, 5:9, 5:9] = 1\n",
    "\n",
    "    # For class3, first draw a cube from indices [0:4, 0:4, 0:4] (non-overlapping with class1/class2)\n",
    "    tensor[mapping[\"class3\"], 0:4, 0:4, 0:4] = 1\n",
    "\n",
    "    # Then, create an additional region for class3 that overlaps with class2\n",
    "    tensor[mapping[\"class3\"], 4:8, 4:8, 4:8] = 1\n",
    "\n",
    "    # Compute the composite mask where each voxel encodes which classes are present.\n",
    "    composite = compute_composite_mask(tensor)\n",
    "\n",
    "    # Identify the composite labels that represent intersections (2 or more classes)\n",
    "    intersection_labels = get_intersection_labels(composite)\n",
    "    print(\"Intersection composite labels found:\", intersection_labels)\n",
    "\n",
    "    # For each intersection type, run connected components analysis.\n",
    "    for label in intersection_labels:\n",
    "        labeled_array, num_components = connected_components_for_label(\n",
    "            composite, label, connectivity=26\n",
    "        )\n",
    "        classes = decode_label(label, mapping)\n",
    "        print(\n",
    "            f\"Composite label {label} (classes: {classes}) has {num_components} connected component(s)\"\n",
    "        )"
   ]
  },
  {
   "cell_type": "code",
   "execution_count": 80,
   "metadata": {},
   "outputs": [
    {
     "data": {
      "text/plain": [
       "(21,)"
      ]
     },
     "execution_count": 80,
     "metadata": {},
     "output_type": "execute_result"
    }
   ],
   "source": [
    "a = np.arange(27).reshape(3, 3, 3)\n",
    "a[a > 5].shape"
   ]
  },
  {
   "cell_type": "code",
   "execution_count": 83,
   "metadata": {},
   "outputs": [],
   "source": [
    "lst = [[1, 2], [3, 4]]"
   ]
  },
  {
   "cell_type": "code",
   "execution_count": 88,
   "metadata": {},
   "outputs": [
    {
     "name": "stdout",
     "output_type": "stream",
     "text": [
      "ahh\n",
      "9\n",
      "ahh\n",
      "8\n",
      "ahh\n",
      "7\n",
      "ahh\n",
      "6\n",
      "ahh\n",
      "5\n"
     ]
    }
   ],
   "source": [
    "lst = [x for x in range(10)]\n",
    "while len(lst) > 5:\n",
    "    print(\"ahh\")\n",
    "    print(lst.pop())"
   ]
  },
  {
   "cell_type": "code",
   "execution_count": 91,
   "metadata": {},
   "outputs": [],
   "source": [
    "def _find_connected_components(arr):\n",
    "    return cc3d.connected_components(\n",
    "        arr,\n",
    "        connectivity=26,\n",
    "        return_N=True,\n",
    "        out_dtype=np.uint16,\n",
    "    )\n",
    "\n",
    "\n",
    "def _get_components_and_ids(macro_components):\n",
    "    for component_id, component_mask in cc3d.each(\n",
    "        macro_components, binary=True, in_place=True\n",
    "    ):\n",
    "        yield component_id, component_mask"
   ]
  },
  {
   "cell_type": "code",
   "execution_count": 1,
   "metadata": {},
   "outputs": [],
   "source": [
    "import cc3d\n",
    "import numpy as np"
   ]
  },
  {
   "cell_type": "code",
   "execution_count": 50,
   "metadata": {},
   "outputs": [
    {
     "data": {
      "text/plain": [
       "array([[[ 0,  1,  2],\n",
       "        [ 3,  4,  5],\n",
       "        [ 6,  7,  8]],\n",
       "\n",
       "       [[ 9, 10, 11],\n",
       "        [12, 13, 14],\n",
       "        [15, 16, 17]],\n",
       "\n",
       "       [[18, 19, 20],\n",
       "        [21, 22, 23],\n",
       "        [24, 25, 26]]])"
      ]
     },
     "execution_count": 50,
     "metadata": {},
     "output_type": "execute_result"
    }
   ],
   "source": [
    "a = np.arange(27).reshape(3, 3, 3)\n",
    "a"
   ]
  },
  {
   "cell_type": "code",
   "execution_count": 51,
   "metadata": {},
   "outputs": [],
   "source": [
    "a = np.arange(27).reshape(3, 3, 3)\n",
    "a[a != 7] = 0"
   ]
  },
  {
   "cell_type": "code",
   "execution_count": 57,
   "metadata": {},
   "outputs": [],
   "source": [
    "b = np.arange(27).reshape(3, 3, 3)\n",
    "b[b != 26] = 0"
   ]
  },
  {
   "cell_type": "code",
   "execution_count": 60,
   "metadata": {},
   "outputs": [],
   "source": [
    "def _find_connected_components(arr):\n",
    "    return cc3d.connected_components(\n",
    "        arr,\n",
    "        connectivity=26,\n",
    "        return_N=True,\n",
    "        out_dtype=np.uint16,\n",
    "    )\n",
    "\n",
    "\n",
    "def _get_surface_contact(mask, mask2=None):\n",
    "    if mask2 is not None:\n",
    "        two_component_mask = mask + mask2\n",
    "    else:\n",
    "        two_component_mask = (mask > 0).astype(int)\n",
    "        two_component_mask[two_component_mask == 0] = -1\n",
    "    components, _ = _find_connected_components(two_component_mask)\n",
    "    surface_per_contact = cc3d.contacts(\n",
    "        components,\n",
    "        connectivity=26,\n",
    "    )\n",
    "\n",
    "    return surface_per_contact[(1, 2)] if len(surface_per_contact) > 0 else 0"
   ]
  },
  {
   "cell_type": "code",
   "execution_count": 68,
   "metadata": {},
   "outputs": [],
   "source": [
    "def _get_centroid(mask):\n",
    "    coords = np.argwhere(mask == 1)\n",
    "    # Compute the centroid\n",
    "    return coords.mean(axis=0)"
   ]
  },
  {
   "cell_type": "code",
   "execution_count": 9,
   "metadata": {},
   "outputs": [
    {
     "name": "stdout",
     "output_type": "stream",
     "text": [
      "Collecting scikit-image\n",
      "  Downloading scikit_image-0.25.1-cp310-cp310-manylinux_2_17_x86_64.manylinux2014_x86_64.whl.metadata (14 kB)\n",
      "Requirement already satisfied: numpy>=1.24 in ./.venv/lib/python3.10/site-packages (from scikit-image) (1.26.4)\n",
      "Requirement already satisfied: scipy>=1.11.2 in ./.venv/lib/python3.10/site-packages (from scikit-image) (1.14.1)\n",
      "Requirement already satisfied: networkx>=3.0 in ./.venv/lib/python3.10/site-packages (from scikit-image) (3.3)\n",
      "Requirement already satisfied: pillow>=10.1 in ./.venv/lib/python3.10/site-packages (from scikit-image) (10.4.0)\n",
      "Collecting imageio!=2.35.0,>=2.33 (from scikit-image)\n",
      "  Downloading imageio-2.37.0-py3-none-any.whl.metadata (5.2 kB)\n",
      "Collecting tifffile>=2022.8.12 (from scikit-image)\n",
      "  Downloading tifffile-2025.1.10-py3-none-any.whl.metadata (31 kB)\n",
      "Requirement already satisfied: packaging>=21 in ./.venv/lib/python3.10/site-packages (from scikit-image) (24.1)\n",
      "Collecting lazy-loader>=0.4 (from scikit-image)\n",
      "  Downloading lazy_loader-0.4-py3-none-any.whl.metadata (7.6 kB)\n",
      "Downloading scikit_image-0.25.1-cp310-cp310-manylinux_2_17_x86_64.manylinux2014_x86_64.whl (14.8 MB)\n",
      "\u001b[2K   \u001b[90m━━━━━━━━━━━━━━━━━━━━━━━━━━━━━━━━━━━━━━━━\u001b[0m \u001b[32m14.8/14.8 MB\u001b[0m \u001b[31m11.3 MB/s\u001b[0m eta \u001b[36m0:00:00\u001b[0ma \u001b[36m0:00:01\u001b[0m\n",
      "\u001b[?25hDownloading imageio-2.37.0-py3-none-any.whl (315 kB)\n",
      "Downloading lazy_loader-0.4-py3-none-any.whl (12 kB)\n",
      "Downloading tifffile-2025.1.10-py3-none-any.whl (227 kB)\n",
      "Installing collected packages: tifffile, lazy-loader, imageio, scikit-image\n",
      "Successfully installed imageio-2.37.0 lazy-loader-0.4 scikit-image-0.25.1 tifffile-2025.1.10\n",
      "\n",
      "\u001b[1m[\u001b[0m\u001b[34;49mnotice\u001b[0m\u001b[1;39;49m]\u001b[0m\u001b[39;49m A new release of pip is available: \u001b[0m\u001b[31;49m24.2\u001b[0m\u001b[39;49m -> \u001b[0m\u001b[32;49m25.0\u001b[0m\n",
      "\u001b[1m[\u001b[0m\u001b[34;49mnotice\u001b[0m\u001b[1;39;49m]\u001b[0m\u001b[39;49m To update, run: \u001b[0m\u001b[32;49mpip install --upgrade pip\u001b[0m\n"
     ]
    }
   ],
   "source": [
    "!pip install scikit-image"
   ]
  },
  {
   "cell_type": "code",
   "execution_count": 36,
   "metadata": {},
   "outputs": [
    {
     "name": "stdout",
     "output_type": "stream",
     "text": [
      "<scipy.spatial._qhull.ConvexHull object at 0x7fabf307d450>\n"
     ]
    }
   ],
   "source": [
    "import numpy as np\n",
    "from scipy.spatial import ConvexHull\n",
    "from skimage.morphology import convex_hull_image\n",
    "from skimage.measure import regionprops, label\n",
    "\n",
    "\n",
    "def compute_convex_hull_filled(mask):\n",
    "    dims = len(mask.shape)\n",
    "    # Get coordinates of the object (where mask == 1)\n",
    "    points = np.column_stack(np.where(mask > 0))\n",
    "\n",
    "    # Compute convex hull\n",
    "    hull = ConvexHull(points)\n",
    "    print(hull)\n",
    "\n",
    "    # Create a new mask with the convex hull points\n",
    "    hull_mask = np.zeros_like(mask, dtype=bool)\n",
    "\n",
    "    # Fill the convex hull using the bounding box\n",
    "    min_coords = points.min(axis=0)\n",
    "    max_coords = points.max(axis=0)\n",
    "\n",
    "    # Create an empty mask in the bounding box region\n",
    "    bbox = tuple(slice(min_coords[d], max_coords[d] + 1) for d in range(dims))\n",
    "\n",
    "    # Convert hull vertices back to an image mask\n",
    "    hull_points = points[hull.vertices]\n",
    "    hull_mask[tuple(hull_points.T)] = True\n",
    "\n",
    "    # Fill the convex hull in the bounding box region\n",
    "    filled_hull = convex_hull_image(hull_mask[bbox])\n",
    "\n",
    "    # Put back into the original image\n",
    "    hull_mask[bbox] = filled_hull\n",
    "\n",
    "    return hull_mask.astype(np.uint8)\n",
    "\n",
    "\n",
    "# Example: Create a 2D non-convex mask (5x5 \"L\" shape)\n",
    "mask = np.zeros((5, 5), dtype=np.uint8)\n",
    "mask[1:4, 1] = 1  # Vertical part of L\n",
    "mask[3, 2:4] = 1  # Horizontal part of L\n",
    "\n",
    "convex_hull_mask = compute_convex_hull_filled(mask)"
   ]
  },
  {
   "cell_type": "code",
   "execution_count": 37,
   "metadata": {},
   "outputs": [],
   "source": [
    "mask = np.repeat(mask[None, :, :], 5, axis=0)"
   ]
  },
  {
   "cell_type": "code",
   "execution_count": 38,
   "metadata": {},
   "outputs": [
    {
     "data": {
      "text/plain": [
       "(5, 5, 5)"
      ]
     },
     "execution_count": 38,
     "metadata": {},
     "output_type": "execute_result"
    }
   ],
   "source": [
    "mask.shape"
   ]
  },
  {
   "cell_type": "code",
   "execution_count": 42,
   "metadata": {},
   "outputs": [
    {
     "data": {
      "text/plain": [
       "21"
      ]
     },
     "execution_count": 42,
     "metadata": {},
     "output_type": "execute_result"
    }
   ],
   "source": [
    "a = np.array([0, 1])\n",
    "b = np.array([10, 10])\n",
    "np.sum([a, b])"
   ]
  },
  {
   "cell_type": "code",
   "execution_count": 39,
   "metadata": {},
   "outputs": [],
   "source": [
    "def _mask2bbox(mask):\n",
    "    dims = len(mask.shape)\n",
    "    points = np.column_stack(np.where(mask > 0))\n",
    "    min_coords = points.min(axis=0)\n",
    "    max_coords = points.max(axis=0)\n",
    "\n",
    "    res = np.zeros_like(mask)\n",
    "    bbox = tuple(slice(min_coords[d], max_coords[d] + 1) for d in range(dims))\n",
    "\n",
    "    res[bbox] = 1\n",
    "    return res"
   ]
  },
  {
   "cell_type": "code",
   "execution_count": 40,
   "metadata": {},
   "outputs": [
    {
     "data": {
      "text/plain": [
       "array([[[0, 0, 0, 0, 0],\n",
       "        [0, 1, 1, 1, 0],\n",
       "        [0, 1, 1, 1, 0],\n",
       "        [0, 1, 1, 1, 0],\n",
       "        [0, 0, 0, 0, 0]],\n",
       "\n",
       "       [[0, 0, 0, 0, 0],\n",
       "        [0, 1, 1, 1, 0],\n",
       "        [0, 1, 1, 1, 0],\n",
       "        [0, 1, 1, 1, 0],\n",
       "        [0, 0, 0, 0, 0]],\n",
       "\n",
       "       [[0, 0, 0, 0, 0],\n",
       "        [0, 1, 1, 1, 0],\n",
       "        [0, 1, 1, 1, 0],\n",
       "        [0, 1, 1, 1, 0],\n",
       "        [0, 0, 0, 0, 0]],\n",
       "\n",
       "       [[0, 0, 0, 0, 0],\n",
       "        [0, 1, 1, 1, 0],\n",
       "        [0, 1, 1, 1, 0],\n",
       "        [0, 1, 1, 1, 0],\n",
       "        [0, 0, 0, 0, 0]],\n",
       "\n",
       "       [[0, 0, 0, 0, 0],\n",
       "        [0, 1, 1, 1, 0],\n",
       "        [0, 1, 1, 1, 0],\n",
       "        [0, 1, 1, 1, 0],\n",
       "        [0, 0, 0, 0, 0]]], dtype=uint8)"
      ]
     },
     "execution_count": 40,
     "metadata": {},
     "output_type": "execute_result"
    }
   ],
   "source": [
    "_mask2bbox(mask)"
   ]
  },
  {
   "cell_type": "code",
   "execution_count": 27,
   "metadata": {},
   "outputs": [
    {
     "data": {
      "text/plain": [
       "array([[1, 1],\n",
       "       [2, 1],\n",
       "       [3, 1],\n",
       "       [3, 2],\n",
       "       [3, 3]])"
      ]
     },
     "execution_count": 27,
     "metadata": {},
     "output_type": "execute_result"
    }
   ],
   "source": [
    "points = np.column_stack(np.where(mask > 0))\n",
    "points"
   ]
  },
  {
   "cell_type": "code",
   "execution_count": 25,
   "metadata": {},
   "outputs": [
    {
     "data": {
      "text/plain": [
       "array([[[False,  True,  True],\n",
       "        [ True,  True,  True],\n",
       "        [ True,  True,  True]],\n",
       "\n",
       "       [[ True,  True,  True],\n",
       "        [ True,  True,  True],\n",
       "        [ True,  True,  True]],\n",
       "\n",
       "       [[ True,  True,  True],\n",
       "        [ True,  True,  True],\n",
       "        [ True,  True,  True]]])"
      ]
     },
     "execution_count": 25,
     "metadata": {},
     "output_type": "execute_result"
    }
   ],
   "source": [
    "convex_hull_image(np.arange(27).reshape(3, 3, 3))"
   ]
  },
  {
   "cell_type": "code",
   "execution_count": 24,
   "metadata": {},
   "outputs": [
    {
     "data": {
      "text/plain": [
       "array([[0, 0, 0, 0, 0],\n",
       "       [0, 1, 0, 0, 0],\n",
       "       [0, 1, 1, 0, 0],\n",
       "       [0, 1, 1, 1, 0],\n",
       "       [0, 0, 0, 0, 0]])"
      ]
     },
     "execution_count": 24,
     "metadata": {},
     "output_type": "execute_result"
    }
   ],
   "source": [
    "convex_hull_image(mask).astype(int)"
   ]
  },
  {
   "cell_type": "code",
   "execution_count": 20,
   "metadata": {},
   "outputs": [
    {
     "data": {
      "text/plain": [
       "array([[0, 0, 0, 0, 0],\n",
       "       [0, 1, 0, 0, 0],\n",
       "       [0, 1, 0, 0, 0],\n",
       "       [0, 1, 1, 1, 0],\n",
       "       [0, 0, 0, 0, 0]], dtype=uint8)"
      ]
     },
     "execution_count": 20,
     "metadata": {},
     "output_type": "execute_result"
    }
   ],
   "source": [
    "mask"
   ]
  },
  {
   "cell_type": "code",
   "execution_count": 19,
   "metadata": {},
   "outputs": [
    {
     "data": {
      "text/plain": [
       "array([[0, 0, 0, 0, 0],\n",
       "       [0, 1, 0, 0, 0],\n",
       "       [0, 1, 1, 0, 0],\n",
       "       [0, 1, 1, 1, 0],\n",
       "       [0, 0, 0, 0, 0]], dtype=uint8)"
      ]
     },
     "execution_count": 19,
     "metadata": {},
     "output_type": "execute_result"
    }
   ],
   "source": [
    "convex_hull_mask"
   ]
  },
  {
   "cell_type": "code",
   "execution_count": 7,
   "metadata": {},
   "outputs": [
    {
     "data": {
      "text/plain": [
       "6"
      ]
     },
     "execution_count": 7,
     "metadata": {},
     "output_type": "execute_result"
    }
   ],
   "source": [
    "a = {1: 2, 3: 4}\n",
    "sum(a.values())"
   ]
  },
  {
   "cell_type": "code",
   "execution_count": 6,
   "metadata": {},
   "outputs": [],
   "source": [
    "lst = []\n",
    "lst.append((1, 2))"
   ]
  },
  {
   "cell_type": "code",
   "execution_count": 2,
   "metadata": {},
   "outputs": [],
   "source": [
    "import numpy as np"
   ]
  },
  {
   "cell_type": "code",
   "execution_count": 3,
   "metadata": {},
   "outputs": [],
   "source": [
    "a = np.arange(27).reshape(3, 3, 3)"
   ]
  },
  {
   "cell_type": "code",
   "execution_count": 4,
   "metadata": {},
   "outputs": [
    {
     "data": {
      "text/plain": [
       "array([[18, 19, 20],\n",
       "       [21, 22, 23],\n",
       "       [24, 25, 26]])"
      ]
     },
     "execution_count": 4,
     "metadata": {},
     "output_type": "execute_result"
    }
   ],
   "source": [
    "a[2]"
   ]
  },
  {
   "cell_type": "code",
   "execution_count": 61,
   "metadata": {},
   "outputs": [
    {
     "data": {
      "text/plain": [
       "0"
      ]
     },
     "execution_count": 61,
     "metadata": {},
     "output_type": "execute_result"
    }
   ],
   "source": [
    "_get_surface_contact(a, b)"
   ]
  },
  {
   "cell_type": "code",
   "execution_count": 20,
   "metadata": {},
   "outputs": [],
   "source": [
    "components, num = cc3d.connected_components(\n",
    "    a,\n",
    "    connectivity=26,\n",
    "    return_N=True,\n",
    "    # out_dtype=np.uint16,\n",
    ")"
   ]
  },
  {
   "cell_type": "code",
   "execution_count": 21,
   "metadata": {},
   "outputs": [
    {
     "data": {
      "text/plain": [
       "array([[[1, 1, 1],\n",
       "        [1, 1, 1],\n",
       "        [1, 1, 1]],\n",
       "\n",
       "       [[1, 1, 1],\n",
       "        [1, 2, 1],\n",
       "        [1, 1, 1]],\n",
       "\n",
       "       [[1, 1, 1],\n",
       "        [1, 1, 1],\n",
       "        [1, 1, 1]]], dtype=uint16)"
      ]
     },
     "execution_count": 21,
     "metadata": {},
     "output_type": "execute_result"
    }
   ],
   "source": [
    "components"
   ]
  },
  {
   "cell_type": "code",
   "execution_count": 28,
   "metadata": {},
   "outputs": [],
   "source": [
    "surface_per_contact = cc3d.contacts(\n",
    "    components,\n",
    "    connectivity=26,\n",
    ")"
   ]
  },
  {
   "cell_type": "code",
   "execution_count": 29,
   "metadata": {},
   "outputs": [
    {
     "data": {
      "text/plain": [
       "{(1, 2): 40.0}"
      ]
     },
     "execution_count": 29,
     "metadata": {},
     "output_type": "execute_result"
    }
   ],
   "source": [
    "surface_per_contact"
   ]
  },
  {
   "cell_type": "code",
   "execution_count": 8,
   "metadata": {},
   "outputs": [
    {
     "data": {
      "text/plain": [
       "1"
      ]
     },
     "execution_count": 8,
     "metadata": {},
     "output_type": "execute_result"
    }
   ],
   "source": [
    "num"
   ]
  },
  {
   "cell_type": "code",
   "execution_count": 89,
   "metadata": {},
   "outputs": [
    {
     "data": {
      "text/plain": [
       "[0, 1, 2, 3, 4]"
      ]
     },
     "execution_count": 89,
     "metadata": {},
     "output_type": "execute_result"
    }
   ],
   "source": [
    "lst"
   ]
  },
  {
   "cell_type": "code",
   "execution_count": 86,
   "metadata": {},
   "outputs": [
    {
     "data": {
      "text/plain": [
       "[1, 2, 3, 4]"
      ]
     },
     "execution_count": 86,
     "metadata": {},
     "output_type": "execute_result"
    }
   ],
   "source": [
    "[1, 2] + [3, 4]"
   ]
  },
  {
   "cell_type": "code",
   "execution_count": 87,
   "metadata": {},
   "outputs": [
    {
     "ename": "TypeError",
     "evalue": "unsupported operand type(s) for +: 'int' and 'list'",
     "output_type": "error",
     "traceback": [
      "\u001b[0;31m---------------------------------------------------------------------------\u001b[0m",
      "\u001b[0;31mTypeError\u001b[0m                                 Traceback (most recent call last)",
      "Cell \u001b[0;32mIn[87], line 1\u001b[0m\n\u001b[0;32m----> 1\u001b[0m \u001b[38;5;28;43msum\u001b[39;49m\u001b[43m(\u001b[49m\u001b[43mlst\u001b[49m\u001b[43m)\u001b[49m\n",
      "\u001b[0;31mTypeError\u001b[0m: unsupported operand type(s) for +: 'int' and 'list'"
     ]
    }
   ],
   "source": [
    "sum(lst)"
   ]
  },
  {
   "cell_type": "code",
   "execution_count": 69,
   "metadata": {},
   "outputs": [
    {
     "name": "stdout",
     "output_type": "stream",
     "text": [
      "Original total voxels: 1755\n",
      "Voxels in sliced largest component: 864\n"
     ]
    }
   ],
   "source": [
    "import numpy as np\n",
    "import cc3d\n",
    "\n",
    "\n",
    "def slice_largest_component_in_half(component, axis=0, side=\"left\", connectivity=6):\n",
    "    \"\"\"\n",
    "    Extracts the largest connected component from a binary array and slices it along a specified\n",
    "    spatial axis, keeping only one half of the component.\n",
    "\n",
    "    This function supports both 3D arrays (shape: n x n x n) and 4D arrays with a single channel\n",
    "    (shape: 1 x n x n x n). For a 4D array, the channel dimension is ignored during processing and\n",
    "    then reinserted before returning the result.\n",
    "\n",
    "    Parameters:\n",
    "        component : np.ndarray\n",
    "            A binary numpy array. Expected shape is (n, n, n) or (1, n, n, n).\n",
    "        axis : int, optional\n",
    "            The spatial axis along which to slice (0, 1, or 2 for 3D data). Default is 0.\n",
    "        side : str, optional\n",
    "            Which side to retain; 'left' keeps voxels with coordinate <= the slice,\n",
    "            while 'right' keeps those > the slice. Default is 'left'.\n",
    "        connectivity : int, optional\n",
    "            The connectivity for cc3d (e.g. 6, 18, or 26). Default is 6.\n",
    "\n",
    "    Returns:\n",
    "        np.ndarray: A binary numpy array (with the same shape as the input) containing the sliced\n",
    "                    largest connected component.\n",
    "    \"\"\"\n",
    "    # If the array has a channel dimension (shape: 1, n, n, n), extract the spatial data.\n",
    "    has_channel = component.ndim == 4 and component.shape[0] == 1\n",
    "    if has_channel:\n",
    "        data = component[0]\n",
    "    else:\n",
    "        data = component\n",
    "\n",
    "    # Extract connected components using cc3d.\n",
    "    labeled, num_labels = cc3d.connected_components(\n",
    "        data, connectivity=connectivity, return_N=True\n",
    "    )\n",
    "    if num_labels == 0:\n",
    "        raise ValueError(\"No connected components found in the input array.\")\n",
    "\n",
    "    # Determine the largest component (ignore the background label 0).\n",
    "    counts = np.bincount(labeled.flat)\n",
    "    counts[0] = 0  # background should not be considered\n",
    "    largest_label = counts.argmax()\n",
    "    largest_component = (labeled == largest_label).astype(data.dtype)\n",
    "\n",
    "    # Find the bounding box of the largest component.\n",
    "    coords = np.argwhere(largest_component)\n",
    "    if coords.size == 0:\n",
    "        raise ValueError(\"The largest component is empty.\")\n",
    "    min_coords = coords.min(axis=0)\n",
    "    max_coords = coords.max(axis=0)\n",
    "\n",
    "    # Choose a slicing coordinate roughly in the center along the specified axis.\n",
    "    slice_coord = (min_coords[axis] + max_coords[axis]) // 2\n",
    "\n",
    "    # Build a mask that retains only one half of the component.\n",
    "    grid = np.indices(largest_component.shape)[axis]\n",
    "    if side == \"left\":\n",
    "        mask = grid <= slice_coord\n",
    "    elif side == \"right\":\n",
    "        mask = grid > slice_coord\n",
    "    else:\n",
    "        raise ValueError(\"Parameter 'side' must be either 'left' or 'right'.\")\n",
    "\n",
    "    # Apply the mask to the largest component.\n",
    "    sliced_component = largest_component * mask\n",
    "\n",
    "    # Reinsert the channel dimension if the original array had one.\n",
    "    if has_channel:\n",
    "        sliced_component = sliced_component[np.newaxis, ...]\n",
    "\n",
    "    return sliced_component\n",
    "\n",
    "\n",
    "# Example usage:\n",
    "if __name__ == \"__main__\":\n",
    "    # Create a simple 4D binary array with one channel.\n",
    "    arr = np.zeros((1, 20, 20, 20), dtype=int)\n",
    "    # Create two connected components: a large one and a small one.\n",
    "    arr[0, 4:16, 4:16, 4:16] = 1  # large component\n",
    "    arr[0, 0:3, 0:3, 0:3] = 1  # small component\n",
    "\n",
    "    # Extract the largest component and slice it along spatial axis 0 (keeping the \"left\" side).\n",
    "    sliced = slice_largest_component_in_half(arr, axis=0, side=\"left\")\n",
    "\n",
    "    print(\"Original total voxels:\", arr.sum())\n",
    "    print(\"Voxels in sliced largest component:\", sliced.sum())"
   ]
  },
  {
   "cell_type": "code",
   "execution_count": 56,
   "metadata": {},
   "outputs": [
    {
     "data": {
      "text/plain": [
       "0"
      ]
     },
     "execution_count": 56,
     "metadata": {},
     "output_type": "execute_result"
    }
   ],
   "source": [
    "max_index"
   ]
  },
  {
   "cell_type": "code",
   "execution_count": 54,
   "metadata": {},
   "outputs": [
    {
     "name": "stdout",
     "output_type": "stream",
     "text": [
      "1\n",
      "[[[ True  True  True]\n",
      "  [ True  True  True]\n",
      "  [ True  True  True]]\n",
      "\n",
      " [[ True  True  True]\n",
      "  [False False False]\n",
      "  [False False False]]\n",
      "\n",
      " [[False False False]\n",
      "  [False False False]\n",
      "  [False False False]]]\n",
      "2\n",
      "[[[False False False]\n",
      "  [False False False]\n",
      "  [False False False]]\n",
      "\n",
      " [[False False False]\n",
      "  [ True False False]\n",
      "  [False False False]]\n",
      "\n",
      " [[False False False]\n",
      "  [False False False]\n",
      "  [False False False]]]\n",
      "3\n",
      "[[[False False False]\n",
      "  [False False False]\n",
      "  [False False False]]\n",
      "\n",
      " [[False False False]\n",
      "  [False  True False]\n",
      "  [False False False]]\n",
      "\n",
      " [[False False False]\n",
      "  [False False False]\n",
      "  [False False False]]]\n",
      "4\n",
      "[[[False False False]\n",
      "  [False False False]\n",
      "  [False False False]]\n",
      "\n",
      " [[False False False]\n",
      "  [False False  True]\n",
      "  [False False False]]\n",
      "\n",
      " [[False False False]\n",
      "  [False False False]\n",
      "  [False False False]]]\n",
      "5\n",
      "[[[False False False]\n",
      "  [False False False]\n",
      "  [False False False]]\n",
      "\n",
      " [[False False False]\n",
      "  [False False False]\n",
      "  [ True False False]]\n",
      "\n",
      " [[False False False]\n",
      "  [False False False]\n",
      "  [False False False]]]\n",
      "6\n",
      "[[[False False False]\n",
      "  [False False False]\n",
      "  [False False False]]\n",
      "\n",
      " [[False False False]\n",
      "  [False False False]\n",
      "  [False  True False]]\n",
      "\n",
      " [[False False False]\n",
      "  [False False False]\n",
      "  [False False False]]]\n",
      "7\n",
      "[[[False False False]\n",
      "  [False False False]\n",
      "  [False False False]]\n",
      "\n",
      " [[False False False]\n",
      "  [False False False]\n",
      "  [False False  True]]\n",
      "\n",
      " [[False False False]\n",
      "  [False False False]\n",
      "  [False False False]]]\n",
      "8\n",
      "[[[False False False]\n",
      "  [False False False]\n",
      "  [False False False]]\n",
      "\n",
      " [[False False False]\n",
      "  [False False False]\n",
      "  [False False False]]\n",
      "\n",
      " [[ True False False]\n",
      "  [False False False]\n",
      "  [False False False]]]\n",
      "9\n",
      "[[[False False False]\n",
      "  [False False False]\n",
      "  [False False False]]\n",
      "\n",
      " [[False False False]\n",
      "  [False False False]\n",
      "  [False False False]]\n",
      "\n",
      " [[False  True False]\n",
      "  [False False False]\n",
      "  [False False False]]]\n",
      "10\n",
      "[[[False False False]\n",
      "  [False False False]\n",
      "  [False False False]]\n",
      "\n",
      " [[False False False]\n",
      "  [False False False]\n",
      "  [False False False]]\n",
      "\n",
      " [[False False  True]\n",
      "  [False False False]\n",
      "  [False False False]]]\n",
      "11\n",
      "[[[False False False]\n",
      "  [False False False]\n",
      "  [False False False]]\n",
      "\n",
      " [[False False False]\n",
      "  [False False False]\n",
      "  [False False False]]\n",
      "\n",
      " [[False False False]\n",
      "  [ True False False]\n",
      "  [False False False]]]\n",
      "12\n",
      "[[[False False False]\n",
      "  [False False False]\n",
      "  [False False False]]\n",
      "\n",
      " [[False False False]\n",
      "  [False False False]\n",
      "  [False False False]]\n",
      "\n",
      " [[False False False]\n",
      "  [False  True False]\n",
      "  [False False False]]]\n",
      "13\n",
      "[[[False False False]\n",
      "  [False False False]\n",
      "  [False False False]]\n",
      "\n",
      " [[False False False]\n",
      "  [False False False]\n",
      "  [False False False]]\n",
      "\n",
      " [[False False False]\n",
      "  [False False  True]\n",
      "  [False False False]]]\n",
      "14\n",
      "[[[False False False]\n",
      "  [False False False]\n",
      "  [False False False]]\n",
      "\n",
      " [[False False False]\n",
      "  [False False False]\n",
      "  [False False False]]\n",
      "\n",
      " [[False False False]\n",
      "  [False False False]\n",
      "  [ True False False]]]\n",
      "15\n",
      "[[[False False False]\n",
      "  [False False False]\n",
      "  [False False False]]\n",
      "\n",
      " [[False False False]\n",
      "  [False False False]\n",
      "  [False False False]]\n",
      "\n",
      " [[False False False]\n",
      "  [False False False]\n",
      "  [False  True False]]]\n",
      "16\n",
      "[[[False False False]\n",
      "  [False False False]\n",
      "  [False False False]]\n",
      "\n",
      " [[False False False]\n",
      "  [False False False]\n",
      "  [False False False]]\n",
      "\n",
      " [[False False False]\n",
      "  [False False False]\n",
      "  [False False  True]]]\n"
     ]
    }
   ],
   "source": [
    "for component_id, component_mask in cc3d.each(\n",
    "    macro_components, binary=True, in_place=True\n",
    "):\n",
    "    print(component_id)\n",
    "    print(component_mask)"
   ]
  },
  {
   "cell_type": "code",
   "execution_count": 46,
   "metadata": {},
   "outputs": [
    {
     "data": {
      "text/plain": [
       "0"
      ]
     },
     "execution_count": 46,
     "metadata": {},
     "output_type": "execute_result"
    }
   ],
   "source": [
    "np.argmax([3, 2, 1])"
   ]
  },
  {
   "cell_type": "code",
   "execution_count": 40,
   "metadata": {},
   "outputs": [],
   "source": [
    "if None:\n",
    "    print(\"a\")"
   ]
  },
  {
   "cell_type": "code",
   "execution_count": null,
   "metadata": {},
   "outputs": [],
   "source": [
    "d = {'1': 2}\n",
    "for key, value in d.values()"
   ]
  },
  {
   "cell_type": "code",
   "execution_count": 37,
   "metadata": {},
   "outputs": [],
   "source": [
    "new = np.array([a, b])"
   ]
  },
  {
   "cell_type": "code",
   "execution_count": 18,
   "metadata": {},
   "outputs": [],
   "source": [
    "def foo(ab):\n",
    "    print(\"ahh\")\n",
    "    print(ab)\n",
    "    return True"
   ]
  },
  {
   "cell_type": "code",
   "execution_count": 20,
   "metadata": {},
   "outputs": [
    {
     "name": "stdout",
     "output_type": "stream",
     "text": [
      "ahh\n",
      "10\n"
     ]
    }
   ],
   "source": [
    "b = foo(aa := sum(range(5)))"
   ]
  },
  {
   "cell_type": "code",
   "execution_count": 21,
   "metadata": {},
   "outputs": [
    {
     "data": {
      "text/plain": [
       "10"
      ]
     },
     "execution_count": 21,
     "metadata": {},
     "output_type": "execute_result"
    }
   ],
   "source": [
    "aa"
   ]
  },
  {
   "cell_type": "code",
   "execution_count": 19,
   "metadata": {},
   "outputs": [
    {
     "name": "stdout",
     "output_type": "stream",
     "text": [
      "ahh\n",
      "10\n",
      "10\n"
     ]
    }
   ],
   "source": [
    "if  > 0:\n",
    "    print(s)"
   ]
  },
  {
   "cell_type": "code",
   "execution_count": 15,
   "metadata": {},
   "outputs": [
    {
     "data": {
      "text/plain": [
       "[tensor([[0, 1, 2],\n",
       "         [3, 4, 5],\n",
       "         [6, 7, 8]]),\n",
       " tensor([[ 9, 10, 11],\n",
       "         [12, 13, 14],\n",
       "         [15, 16, 17]]),\n",
       " tensor([[18, 19, 20],\n",
       "         [21, 22, 23],\n",
       "         [24, 25, 26]])]"
      ]
     },
     "execution_count": 15,
     "metadata": {},
     "output_type": "execute_result"
    }
   ],
   "source": [
    "list(a)"
   ]
  },
  {
   "cell_type": "code",
   "execution_count": 11,
   "metadata": {},
   "outputs": [
    {
     "data": {
      "text/plain": [
       "tensor([[1., 0., 0.],\n",
       "        [0., 1., 0.],\n",
       "        [0., 0., 1.]])"
      ]
     },
     "execution_count": 11,
     "metadata": {},
     "output_type": "execute_result"
    }
   ],
   "source": [
    "b = torch.eye(3, 3)\n",
    "b"
   ]
  },
  {
   "cell_type": "code",
   "execution_count": 12,
   "metadata": {},
   "outputs": [
    {
     "data": {
      "text/plain": [
       "tensor([[[0., 1., 1.],\n",
       "         [1., 0., 1.],\n",
       "         [1., 1., 0.]],\n",
       "\n",
       "        [[0., 1., 1.],\n",
       "         [1., 0., 1.],\n",
       "         [1., 1., 0.]],\n",
       "\n",
       "        [[0., 1., 1.],\n",
       "         [1., 0., 1.],\n",
       "         [1., 1., 0.]]])"
      ]
     },
     "execution_count": 12,
     "metadata": {},
     "output_type": "execute_result"
    }
   ],
   "source": [
    "a[:, b.to(bool)] = 0\n",
    "a"
   ]
  },
  {
   "cell_type": "code",
   "execution_count": 19,
   "metadata": {},
   "outputs": [
    {
     "name": "stderr",
     "output_type": "stream",
     "text": [
      "100%|██████████| 118287/118287 [00:00<00:00, 119125.56it/s]\n"
     ]
    }
   ],
   "source": [
    "for file in tqdm(\n",
    "    glob.glob(\"/home/setupishe/datasets/COCO/images/train/*txt\", recursive=True)\n",
    "):\n",
    "    os.remove(file)"
   ]
  },
  {
   "cell_type": "code",
   "execution_count": 1,
   "metadata": {},
   "outputs": [],
   "source": [
    "time_05 = 10"
   ]
  },
  {
   "cell_type": "code",
   "execution_count": 2,
   "metadata": {},
   "outputs": [],
   "source": [
    "speed = time_05 / 0.5"
   ]
  },
  {
   "cell_type": "code",
   "execution_count": 6,
   "metadata": {},
   "outputs": [
    {
     "data": {
      "text/plain": [
       "20.0"
      ]
     },
     "execution_count": 6,
     "metadata": {},
     "output_type": "execute_result"
    }
   ],
   "source": [
    "speed"
   ]
  },
  {
   "cell_type": "code",
   "execution_count": 6,
   "metadata": {},
   "outputs": [],
   "source": [
    "total_amount = 0.2 + 0.3 + 0.4 + 0.5 + 0.6 + 0.7"
   ]
  },
  {
   "cell_type": "code",
   "execution_count": 9,
   "metadata": {},
   "outputs": [
    {
     "data": {
      "text/plain": [
       "9.0"
      ]
     },
     "execution_count": 9,
     "metadata": {},
     "output_type": "execute_result"
    }
   ],
   "source": [
    "total_amount * 200 / 60"
   ]
  },
  {
   "cell_type": "code",
   "execution_count": 11,
   "metadata": {},
   "outputs": [
    {
     "data": {
      "text/plain": [
       "2.256944444444444"
      ]
     },
     "execution_count": 11,
     "metadata": {},
     "output_type": "execute_result"
    }
   ],
   "source": [
    "total_amount * speed * 65 / 60 / 24"
   ]
  },
  {
   "cell_type": "code",
   "execution_count": 7,
   "metadata": {},
   "outputs": [],
   "source": [
    "import os, glob, shutil"
   ]
  },
  {
   "cell_type": "code",
   "execution_count": 8,
   "metadata": {},
   "outputs": [],
   "source": [
    "train_list = []"
   ]
  },
  {
   "cell_type": "code",
   "execution_count": 9,
   "metadata": {},
   "outputs": [],
   "source": [
    "count = 0\n",
    "for file in glob.glob(\"/home/setupishe/datasets/VOC/labels/**/*txt\", recursive=True):\n",
    "    with open(file, \"r\") as f:\n",
    "        count += len(f.readlines())"
   ]
  },
  {
   "cell_type": "code",
   "execution_count": 10,
   "metadata": {},
   "outputs": [
    {
     "data": {
      "text/plain": [
       "52090"
      ]
     },
     "execution_count": 10,
     "metadata": {},
     "output_type": "execute_result"
    }
   ],
   "source": [
    "count"
   ]
  },
  {
   "cell_type": "code",
   "execution_count": null,
   "metadata": {},
   "outputs": [],
   "source": [
    "lst = [\n",
    "    \"train2007\",\n",
    "    \"train2012\",\n",
    "    \"val2007\",\n",
    "    \"val2012\",\n",
    "]\n",
    "\n",
    "train_list = [\n",
    "    f\"./images/{folder}/{x}\"\n",
    "    for folder in lst\n",
    "    for x in os.listdir(os.path.join(\"/home/setupishe/datasets/VOC/images\", folder))\n",
    "]"
   ]
  },
  {
   "cell_type": "code",
   "execution_count": 8,
   "metadata": {},
   "outputs": [],
   "source": [
    "test_list = [\n",
    "    f\"./images/test2007/{x}\"\n",
    "    for x in os.listdir(\"/home/setupishe/datasets/VOC/images/test2007\")\n",
    "]"
   ]
  },
  {
   "cell_type": "code",
   "execution_count": 10,
   "metadata": {},
   "outputs": [],
   "source": [
    "with open(\"/home/setupishe/datasets/VOC/VOC_train.txt\", \"w\") as f:\n",
    "    f.writelines([x + \"\\n\" for x in train_list])"
   ]
  },
  {
   "cell_type": "code",
   "execution_count": 11,
   "metadata": {},
   "outputs": [],
   "source": [
    "with open(\"/home/setupishe/datasets/VOC/VOC_val.txt\", \"w\") as f:\n",
    "    f.writelines([x + \"\\n\" for x in test_list])"
   ]
  },
  {
   "cell_type": "code",
   "execution_count": 2,
   "metadata": {},
   "outputs": [],
   "source": [
    "import os, glob, shutil"
   ]
  },
  {
   "cell_type": "code",
   "execution_count": 3,
   "metadata": {},
   "outputs": [],
   "source": [
    "from PIL import Image"
   ]
  },
  {
   "cell_type": "code",
   "execution_count": 4,
   "metadata": {},
   "outputs": [],
   "source": [
    "import cv2"
   ]
  },
  {
   "cell_type": "code",
   "execution_count": 5,
   "metadata": {},
   "outputs": [],
   "source": [
    "def get_shape(img_path):\n",
    "    with Image.open(img_path) as img:\n",
    "        width, height = img.size\n",
    "    return height, width"
   ]
  },
  {
   "cell_type": "code",
   "execution_count": 6,
   "metadata": {},
   "outputs": [],
   "source": [
    "from tqdm import tqdm"
   ]
  },
  {
   "cell_type": "code",
   "execution_count": 7,
   "metadata": {},
   "outputs": [],
   "source": [
    "def force_mkdir(directory):\n",
    "    if os.path.isdir(directory):\n",
    "        shutil.rmtree(directory)\n",
    "    os.mkdir(directory)"
   ]
  },
  {
   "cell_type": "code",
   "execution_count": 11,
   "metadata": {},
   "outputs": [],
   "source": [
    "import os, shutil, glob"
   ]
  },
  {
   "cell_type": "code",
   "execution_count": 13,
   "metadata": {},
   "outputs": [],
   "source": [
    "def jpg2txt(inp):\n",
    "    return inp.replace(\"/images\", \"/labels\").replace(\".jpg\", \".txt\")\n",
    "\n",
    "\n",
    "def txt2jpg(inp):\n",
    "    return inp.replace(\"/labels\", \"/images\").replace(\".txt\", \".jpg\")"
   ]
  },
  {
   "cell_type": "code",
   "execution_count": 15,
   "metadata": {},
   "outputs": [],
   "source": [
    "from tqdm import tqdm"
   ]
  },
  {
   "cell_type": "code",
   "execution_count": null,
   "metadata": {},
   "outputs": [
    {
     "name": "stderr",
     "output_type": "stream",
     "text": [
      "100%|██████████| 21503/21503 [00:01<00:00, 13256.40it/s]\n"
     ]
    }
   ],
   "source": [
    "for file in tqdm(\n",
    "    glob.glob(\"/home/setupishe/datasets/VOC/images/**/*.jpg\", recursive=True)\n",
    "):\n",
    "    to_folder = \"val\" if \"test2007\" in file else \"train\"\n",
    "    from_folder_name = file.split(\"/\")[-2]\n",
    "\n",
    "    for func in [lambda x: x, jpg2txt]:\n",
    "        to_path = func(file).replace(from_folder_name, to_folder)\n",
    "        shutil.copy(func(file), to_path)"
   ]
  },
  {
   "cell_type": "code",
   "execution_count": null,
   "metadata": {},
   "outputs": [],
   "source": [
    "for file in glob.glob(\"/home/setupishe/datasets/VOC/*txt\"):\n",
    "    with open(file, \"r\") as f:\n",
    "        lines = f.readlines()\n",
    "    new_lines = []\n",
    "    for line in lines:\n",
    "        from_folder_name = line.split(\"/\")[-2]\n",
    "        to_folder = \"val\" if \"test2007\" in line else \"train\"\n",
    "        new_lines.append(line.replace(from_folder_name, to_folder))\n",
    "    with open(file, \"w\") as f:\n",
    "        f.writelines(new_lines)"
   ]
  },
  {
   "cell_type": "code",
   "execution_count": null,
   "metadata": {},
   "outputs": [],
   "source": [
    "with open(\"/home/setupishe/datasets/VOC/val.txt\", \"r\") as f:\n",
    "    files = [x.rstrip(\"\\n\") for x in f.readlines()]\n",
    "    for file in files:\n",
    "        full_path = os.path.join(\"/home/setupishe/datasets/VOC\", file)\n",
    "        if not os.path.getsize(full_path):\n",
    "            print(file)"
   ]
  },
  {
   "cell_type": "code",
   "execution_count": 5,
   "metadata": {},
   "outputs": [],
   "source": [
    "with open(\"/home/setupishe/datasets/coco/train2017_0.2.txt\", \"r\") as f:\n",
    "    lines = f.readlines()"
   ]
  },
  {
   "cell_type": "code",
   "execution_count": null,
   "metadata": {},
   "outputs": [],
   "source": [
    "weights = \"/home/setupishe/ultralytics/runs/detect/confidences_0.6/weights/best.pt\"\n",
    "\n",
    "conf_path = \"/\".join(weights.split(\"/\")[:-2])\n",
    "conf_path = \"/home/setupishe/ultralytics/runs/detect/temp6\" + \"/best_conf.txt\""
   ]
  },
  {
   "cell_type": "code",
   "execution_count": null,
   "metadata": {},
   "outputs": [],
   "source": [
    "with open(conf_path, \"r\") as f:\n",
    "    conf = float(f.readline())"
   ]
  },
  {
   "cell_type": "code",
   "execution_count": 7,
   "metadata": {},
   "outputs": [
    {
     "data": {
      "text/plain": [
       "0.46446446446446443"
      ]
     },
     "execution_count": 7,
     "metadata": {},
     "output_type": "execute_result"
    }
   ],
   "source": [
    "conf"
   ]
  },
  {
   "cell_type": "code",
   "execution_count": 6,
   "metadata": {},
   "outputs": [],
   "source": [
    "names = [os.path.basename(x)[:-1] for x in lines]"
   ]
  },
  {
   "cell_type": "code",
   "execution_count": 9,
   "metadata": {},
   "outputs": [],
   "source": [
    "folder_name = \"imgs_0.2\""
   ]
  },
  {
   "cell_type": "code",
   "execution_count": 10,
   "metadata": {},
   "outputs": [],
   "source": [
    "force_mkdir(folder_name)"
   ]
  },
  {
   "cell_type": "code",
   "execution_count": 8,
   "metadata": {},
   "outputs": [],
   "source": [
    "def get_shape(img_path):\n",
    "    with Image.open(img_path) as img:\n",
    "        width, height = img.size\n",
    "    return height, width"
   ]
  },
  {
   "cell_type": "code",
   "execution_count": 9,
   "metadata": {},
   "outputs": [],
   "source": [
    "def txt2jpg(inp):\n",
    "    return inp.replace(\"/labels\", \"/images\").replace(\".txt\", \".jpg\")"
   ]
  },
  {
   "cell_type": "code",
   "execution_count": 10,
   "metadata": {},
   "outputs": [],
   "source": [
    "def seg2bbox(filepath, to_path):\n",
    "    with open(filepath, \"r\") as f:\n",
    "        lines = [x.rstrip(\"\\n\") for x in f.readlines()]\n",
    "    new_lines = []\n",
    "    for line in lines:\n",
    "        lst = line.split()\n",
    "        new_line = [lst[0]]\n",
    "\n",
    "        coords = [float(x) for x in lst[1:]]\n",
    "        h, w = get_shape(txt2jpg(filepath))\n",
    "        first = [x for i, x in enumerate(coords) if i % 2 == 0]\n",
    "        second = [x for i, x in enumerate(coords) if i % 2 == 1]\n",
    "        for i in range(len(first)):\n",
    "            first[i] = int(first[i] * w)\n",
    "            second[i] = int(second[i] * h)\n",
    "\n",
    "        xmin = min(first)\n",
    "        xmax = max(first)\n",
    "        ymin = min(second)\n",
    "        ymax = max(second)\n",
    "\n",
    "        width = (xmax - xmin) / w\n",
    "        height = (ymax - ymin) / h\n",
    "        xc = (xmax + xmin) / w / 2\n",
    "        yc = (ymax + ymin) / h / 2\n",
    "\n",
    "        new_lines.append(\n",
    "            \" \".join([str(item) for item in [lst[0], xc, yc, width, height]]) + \"\\n\"\n",
    "        )\n",
    "    with open(to_path, \"w\") as f:\n",
    "        f.writelines(new_lines)"
   ]
  },
  {
   "cell_type": "code",
   "execution_count": 12,
   "metadata": {},
   "outputs": [
    {
     "name": "stderr",
     "output_type": "stream",
     "text": [
      "  0%|          | 0/118287 [00:00<?, ?it/s]"
     ]
    },
    {
     "name": "stderr",
     "output_type": "stream",
     "text": [
      "100%|██████████| 118287/118287 [01:10<00:00, 1677.78it/s]\n"
     ]
    }
   ],
   "source": [
    "filelist = glob.glob(\"/home/setupishe/datasets/coco/images/train2017/*jpg\")\n",
    "for file in tqdm(filelist):\n",
    "    label_file = file.replace(\"images\", \"labels\").replace(\"jpg\", \"txt\")\n",
    "    if os.path.exists(label_file):\n",
    "        seg2bbox(label_file, file.replace(\"jpg\", \"txt\"))\n",
    "    else:\n",
    "        os.mknod(file.replace(\"txt\"))"
   ]
  },
  {
   "cell_type": "markdown",
   "metadata": {},
   "source": [
    "### remainder embeds"
   ]
  },
  {
   "cell_type": "code",
   "execution_count": 33,
   "metadata": {},
   "outputs": [],
   "source": [
    "folder_name = \"remainder_imgs_0.2\""
   ]
  },
  {
   "cell_type": "code",
   "execution_count": 34,
   "metadata": {},
   "outputs": [],
   "source": [
    "force_mkdir(folder_name)"
   ]
  },
  {
   "cell_type": "code",
   "execution_count": 35,
   "metadata": {},
   "outputs": [
    {
     "name": "stderr",
     "output_type": "stream",
     "text": [
      "100%|██████████| 118287/118287 [01:48<00:00, 1090.82it/s]\n"
     ]
    }
   ],
   "source": [
    "filelist = glob.glob(\"/home/setupishe/datasets/coco/images/train2017/*jpg\")\n",
    "for file in tqdm(filelist):\n",
    "    if os.path.basename(file) not in names:\n",
    "        shutil.copy(file, os.path.join(folder_name, os.path.basename(file)))\n",
    "        label_file = file.replace(\"images\", \"labels\").replace(\"jpg\", \"txt\")\n",
    "        if os.path.exists(label_file):\n",
    "            seg2bbox(\n",
    "                label_file, os.path.join(folder_name, os.path.basename(label_file))\n",
    "            )\n",
    "        else:\n",
    "            os.mknod(label_file)"
   ]
  },
  {
   "cell_type": "markdown",
   "metadata": {},
   "source": [
    "запускаем `produce_detection_embeddings.py`"
   ]
  },
  {
   "cell_type": "markdown",
   "metadata": {},
   "source": [
    "запускаем `preprocess_embedding_pool.py`"
   ]
  },
  {
   "cell_type": "code",
   "execution_count": 2,
   "metadata": {},
   "outputs": [],
   "source": [
    "for file in glob.glob(\"remainder_embeds_reduced_0.2/**/*npy\", recursive=True):\n",
    "    if len(os.path.basename(file).split(\"_\")) == 2:\n",
    "        os.remove(file)"
   ]
  },
  {
   "cell_type": "code",
   "execution_count": null,
   "metadata": {},
   "outputs": [],
   "source": [
    "for file in glob.glob(\"rembeds_reduced_0.2/**/*npy\", recursive=True):\n",
    "    if len(os.path.basename(file).split(\"_\")) == 2:\n",
    "        os.remove(file)"
   ]
  },
  {
   "cell_type": "markdown",
   "metadata": {},
   "source": [
    "запускаем `testing_embeds.ipynb`"
   ]
  },
  {
   "cell_type": "code",
   "execution_count": 26,
   "metadata": {},
   "outputs": [],
   "source": [
    "uniq = set()\n",
    "for file in os.listdir(\"test_folder\"):\n",
    "    uniq.add(file.split(\"_\")[0])"
   ]
  },
  {
   "cell_type": "code",
   "execution_count": 27,
   "metadata": {},
   "outputs": [
    {
     "data": {
      "text/plain": [
       "13332"
      ]
     },
     "execution_count": 27,
     "metadata": {},
     "output_type": "execute_result"
    }
   ],
   "source": [
    "len(uniq)"
   ]
  },
  {
   "cell_type": "code",
   "execution_count": 36,
   "metadata": {},
   "outputs": [],
   "source": [
    "target_num = 118287 * 0.1"
   ]
  },
  {
   "cell_type": "code",
   "execution_count": 37,
   "metadata": {},
   "outputs": [],
   "source": [
    "not_bgs = [x + \".jpg\" for x in random.sample(list(uniq), int(target_num * (1 - 0.008)))]"
   ]
  },
  {
   "cell_type": "markdown",
   "metadata": {},
   "source": [
    "ищем свободные не использованные фоны"
   ]
  },
  {
   "cell_type": "code",
   "execution_count": 38,
   "metadata": {},
   "outputs": [],
   "source": [
    "from tqdm import tqdm"
   ]
  },
  {
   "cell_type": "code",
   "execution_count": 39,
   "metadata": {},
   "outputs": [],
   "source": [
    "free_bgs = []"
   ]
  },
  {
   "cell_type": "code",
   "execution_count": 40,
   "metadata": {},
   "outputs": [
    {
     "name": "stderr",
     "output_type": "stream",
     "text": [
      "100%|██████████| 118287/118287 [00:00<00:00, 399844.65it/s]\n"
     ]
    }
   ],
   "source": [
    "for file in tqdm(\n",
    "    glob.glob(\"/home/setupishe/datasets/coco/labels/train*/**/*txt\", recursive=True)\n",
    "):\n",
    "    name = os.path.basename(file)\n",
    "    if not os.path.getsize(file) and name not in names:\n",
    "        free_bgs.append(file)"
   ]
  },
  {
   "cell_type": "code",
   "execution_count": 41,
   "metadata": {},
   "outputs": [],
   "source": [
    "bgs = [\n",
    "    os.path.basename(x).replace(\"txt\", \"jpg\")\n",
    "    for x in random.sample(free_bgs, int(target_num * 0.008))\n",
    "]"
   ]
  },
  {
   "cell_type": "code",
   "execution_count": 42,
   "metadata": {},
   "outputs": [],
   "source": [
    "with open(\"/home/setupishe/datasets/coco/train2017_0.3_active.txt\", \"w\") as f:\n",
    "    f.writelines([f\"./images/train2017/{x}\\n\" for x in names + not_bgs + bgs])"
   ]
  },
  {
   "cell_type": "code",
   "execution_count": 1,
   "metadata": {},
   "outputs": [],
   "source": [
    "int_frac = 0.4"
   ]
  },
  {
   "cell_type": "code",
   "execution_count": 2,
   "metadata": {},
   "outputs": [],
   "source": [
    "with open(\n",
    "    \"/home/setupishe/ultralytics/ultralytics/cfg/datasets/coco.yaml\", \"r\"\n",
    ") as from_file:\n",
    "    lines = from_file.readlines()\n",
    "\n",
    "for i, line in enumerate(lines):\n",
    "    if \"train: train2017.txt\" in line:\n",
    "        lines[i] = lines[i].replace(\"train2017.txt\", f\"train2017_{int_frac}_active.txt\")\n",
    "with open(\n",
    "    f\"/home/setupishe/ultralytics/ultralytics/cfg/datasets/coco_{int_frac}_active.yaml\",\n",
    "    \"w\",\n",
    ") as to_file:\n",
    "    to_file.writelines(lines)"
   ]
  },
  {
   "cell_type": "code",
   "execution_count": null,
   "metadata": {},
   "outputs": [
    {
     "data": {
      "text/plain": [
       "29.452413320541382"
      ]
     },
     "metadata": {},
     "output_type": "display_data"
    }
   ],
   "source": [
    "import numpy as np\n",
    "from scipy.ndimage import binary_dilation\n",
    "import time\n",
    "\n",
    "\n",
    "# Define the function for dilation\n",
    "def dilate_3d_spherical(input_array, radius):\n",
    "    \"\"\"\n",
    "    Dilate a 3D binary array using a spherical kernel of a given radius.\n",
    "\n",
    "    Parameters:\n",
    "        input_array (numpy.ndarray): 3D binary array to be dilated.\n",
    "        radius (int): Radius of the spherical kernel.\n",
    "\n",
    "    Returns:\n",
    "        numpy.ndarray: Dilated 3D array.\n",
    "    \"\"\"\n",
    "    # Generate the spherical kernel using efficient broadcasting\n",
    "    size = 2 * radius + 1\n",
    "    x, y, z = np.ogrid[:size, :size, :size]\n",
    "    center = radius\n",
    "    distance = np.sqrt((x - center) ** 2 + (y - center) ** 2 + (z - center) ** 2)\n",
    "    structuring_element = distance <= radius\n",
    "\n",
    "    # Perform the dilation\n",
    "    dilated_array = binary_dilation(input_array, structure=structuring_element)\n",
    "\n",
    "    return dilated_array\n",
    "\n",
    "\n",
    "# Create a large 3D binary array for testing\n",
    "array_size = (512, 512, 512)  # Size of the array\n",
    "large_array = np.zeros(array_size, dtype=bool)\n",
    "\n",
    "# Add some random points to the array to act as seeds for dilation\n",
    "np.random.seed(42)\n",
    "num_points = 1000  # Number of random points\n",
    "random_indices = np.random.randint(0, array_size[0], size=(num_points, 3))\n",
    "for idx in random_indices:\n",
    "    large_array[tuple(idx)] = True\n",
    "\n",
    "# Test the dilation function with a spherical radius\n",
    "radius = 5\n",
    "\n",
    "start_time = time.time()\n",
    "dilated_array = dilate_3d_spherical(large_array, radius)\n",
    "end_time = time.time()\n",
    "\n",
    "time_taken = end_time - start_time\n",
    "time_taken"
   ]
  },
  {
   "cell_type": "code",
   "execution_count": null,
   "metadata": {},
   "outputs": [],
   "source": []
  }
 ],
 "metadata": {
  "kernelspec": {
   "display_name": ".venv",
   "language": "python",
   "name": "python3"
  },
  "language_info": {
   "codemirror_mode": {
    "name": "ipython",
    "version": 3
   },
   "file_extension": ".py",
   "mimetype": "text/x-python",
   "name": "python",
   "nbconvert_exporter": "python",
   "pygments_lexer": "ipython3",
   "version": "3.10.12"
  }
 },
 "nbformat": 4,
 "nbformat_minor": 2
}
